{
 "cells": [
  {
   "cell_type": "markdown",
   "metadata": {},
   "source": [
    "# Simple VGG implementation\n",
    "## Loading and augmenting the data"
   ]
  },
  {
   "cell_type": "code",
   "execution_count": 1,
   "metadata": {},
   "outputs": [
    {
     "name": "stderr",
     "output_type": "stream",
     "text": [
      "Using TensorFlow backend.\n"
     ]
    }
   ],
   "source": [
    "# Trying to use less decimals for testing:\n",
    "# it works nice on my 2GB laptop!\n",
    "import keras.backend as K\n",
    "K.set_floatx('float16')\n",
    "#K.set_epsilon(1e-4)"
   ]
  },
  {
   "cell_type": "code",
   "execution_count": 2,
   "metadata": {},
   "outputs": [
    {
     "name": "stdout",
     "output_type": "stream",
     "text": [
      "Found 1600 images belonging to 2 classes.\n",
      "Found 384 images belonging to 2 classes.\n"
     ]
    }
   ],
   "source": [
    "from keras.preprocessing.image import ImageDataGenerator\n",
    "\n",
    "experiment = '0.1.0'\n",
    "\n",
    "train_path = '/data/resized_224/train'\n",
    "validation_path = '/data/resized_224/validation'\n",
    "epochs = 10\n",
    "batch_size = 16\n",
    "\n",
    "train_datagen = ImageDataGenerator(\n",
    "        rescale=1./255,\n",
    "        shear_range=0.2,\n",
    "        zoom_range=0.2,\n",
    "        horizontal_flip=True)\n",
    "\n",
    "train_generator = train_datagen.flow_from_directory(\n",
    "        train_path,\n",
    "        target_size=(224, 224),\n",
    "        batch_size=batch_size,\n",
    "        class_mode='binary') \n",
    "\n",
    "validation_datagen = ImageDataGenerator(rescale=1./255)\n",
    "validation_generator = train_datagen.flow_from_directory(\n",
    "        validation_path,\n",
    "        target_size=(224, 224),\n",
    "        batch_size=batch_size,\n",
    "        class_mode='binary') \n"
   ]
  },
  {
   "cell_type": "code",
   "execution_count": 3,
   "metadata": {},
   "outputs": [],
   "source": [
    "from keras.models import Sequential\n",
    "from keras.layers import Dense, Activation, Conv2D, MaxPooling2D, Dropout, Flatten\n",
    "\n",
    "model = Sequential()\n",
    "model.add(Conv2D(128, (3, 3), input_shape=(224,224,3)))\n",
    "model.add(Activation('relu'))\n",
    "model.add(MaxPooling2D(pool_size=(2, 2)))\n",
    "model.add(Conv2D(64, (3, 3)))\n",
    "model.add(Activation('relu'))\n",
    "model.add(MaxPooling2D(pool_size=(2, 2)))\n",
    "model.add(Conv2D(64, (3, 3)))\n",
    "model.add(Activation('relu'))\n",
    "model.add(MaxPooling2D(pool_size=(2, 2)))\n",
    "\n",
    "model.add(Flatten())\n",
    "model.add(Dense(64))\n",
    "model.add(Activation('relu'))\n",
    "model.add(Dropout(0.5))\n",
    "model.add(Dense(1))\n",
    "model.add(Activation('sigmoid'))\n",
    "\n",
    "\n"
   ]
  },
  {
   "cell_type": "code",
   "execution_count": 4,
   "metadata": {},
   "outputs": [],
   "source": [
    "#sgd = optimizers.SGD(lr=0.001, decay=1e-6, momentum=0.9, nesterov=True)\n",
    "\n",
    "model.compile(loss = 'binary_crossentropy',\n",
    "              optimizer = 'sgd',\n",
    "              metrics = ['accuracy'])"
   ]
  },
  {
   "cell_type": "code",
   "execution_count": 5,
   "metadata": {},
   "outputs": [],
   "source": [
    "from keras import callbacks\n",
    "tbCallBack = callbacks.TensorBoard(log_dir='/code/logs/{}'.format(experiment))\n"
   ]
  },
  {
   "cell_type": "code",
   "execution_count": 6,
   "metadata": {},
   "outputs": [
    {
     "name": "stdout",
     "output_type": "stream",
     "text": [
      "Epoch 1/10\n",
      "125/125 [==============================] - 53s 423ms/step - loss: 0.6907 - acc: 0.5295 - val_loss: 0.6890 - val_acc: 0.5375\n",
      "Epoch 2/10\n",
      "125/125 [==============================] - 49s 394ms/step - loss: 0.6880 - acc: 0.5340 - val_loss: 0.6846 - val_acc: 0.5837\n",
      "Epoch 3/10\n",
      "125/125 [==============================] - 47s 377ms/step - loss: 0.6810 - acc: 0.5755 - val_loss: 0.6713 - val_acc: 0.6100\n",
      "Epoch 4/10\n",
      "125/125 [==============================] - 48s 382ms/step - loss: 0.6640 - acc: 0.6050 - val_loss: 0.6670 - val_acc: 0.6038\n",
      "Epoch 5/10\n",
      "125/125 [==============================] - 48s 382ms/step - loss: 0.6579 - acc: 0.6085 - val_loss: 0.6646 - val_acc: 0.6012\n",
      "Epoch 6/10\n",
      "125/125 [==============================] - 48s 382ms/step - loss: 0.6502 - acc: 0.6370 - val_loss: 0.6567 - val_acc: 0.6000\n",
      "Epoch 7/10\n",
      "125/125 [==============================] - 47s 378ms/step - loss: 0.6467 - acc: 0.6285 - val_loss: 0.6513 - val_acc: 0.6038\n",
      "Epoch 8/10\n",
      "125/125 [==============================] - 48s 385ms/step - loss: 0.6439 - acc: 0.6320 - val_loss: 0.6441 - val_acc: 0.6238\n",
      "Epoch 9/10\n",
      "125/125 [==============================] - 48s 385ms/step - loss: 0.6308 - acc: 0.6455 - val_loss: 0.6375 - val_acc: 0.6412\n",
      "Epoch 10/10\n",
      "125/125 [==============================] - 48s 381ms/step - loss: 0.6507 - acc: 0.6260 - val_loss: 0.6414 - val_acc: 0.6350\n"
     ]
    },
    {
     "data": {
      "text/plain": [
       "<keras.callbacks.History at 0x7f9c4510f590>"
      ]
     },
     "execution_count": 6,
     "metadata": {},
     "output_type": "execute_result"
    }
   ],
   "source": [
    "model.fit_generator(\n",
    "        train_generator,\n",
    "        steps_per_epoch=2000 // batch_size,\n",
    "        epochs=epochs,\n",
    "        validation_data=validation_generator,\n",
    "        validation_steps=800 // batch_size,\n",
    "        callbacks=[tbCallBack])"
   ]
  },
  {
   "cell_type": "code",
   "execution_count": null,
   "metadata": {},
   "outputs": [],
   "source": []
  }
 ],
 "metadata": {
  "kernelspec": {
   "display_name": "Python 2",
   "language": "python",
   "name": "python2"
  },
  "language_info": {
   "codemirror_mode": {
    "name": "ipython",
    "version": 2
   },
   "file_extension": ".py",
   "mimetype": "text/x-python",
   "name": "python",
   "nbconvert_exporter": "python",
   "pygments_lexer": "ipython2",
   "version": "2.7.12"
  }
 },
 "nbformat": 4,
 "nbformat_minor": 2
}
